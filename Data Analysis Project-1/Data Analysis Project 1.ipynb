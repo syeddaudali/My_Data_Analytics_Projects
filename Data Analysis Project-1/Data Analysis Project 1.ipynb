{
 "cells": [
  {
   "cell_type": "code",
   "execution_count": 3,
   "id": "df3f5e13",
   "metadata": {},
   "outputs": [],
   "source": [
    "import pandas as pd"
   ]
  },
  {
   "cell_type": "code",
   "execution_count": 4,
   "id": "9c07d6cb",
   "metadata": {},
   "outputs": [],
   "source": [
    "df=pd.read_csv(\"Ecommerce Purchases.csv\")"
   ]
  },
  {
   "cell_type": "markdown",
   "id": "bf5a2902",
   "metadata": {},
   "source": [
    "# Sample Rows"
   ]
  },
  {
   "cell_type": "code",
   "execution_count": 6,
   "id": "e786afb4",
   "metadata": {},
   "outputs": [
    {
     "data": {
      "text/html": [
       "<div>\n",
       "<style scoped>\n",
       "    .dataframe tbody tr th:only-of-type {\n",
       "        vertical-align: middle;\n",
       "    }\n",
       "\n",
       "    .dataframe tbody tr th {\n",
       "        vertical-align: top;\n",
       "    }\n",
       "\n",
       "    .dataframe thead th {\n",
       "        text-align: right;\n",
       "    }\n",
       "</style>\n",
       "<table border=\"1\" class=\"dataframe\">\n",
       "  <thead>\n",
       "    <tr style=\"text-align: right;\">\n",
       "      <th></th>\n",
       "      <th>Address</th>\n",
       "      <th>Lot</th>\n",
       "      <th>AM or PM</th>\n",
       "      <th>Browser Info</th>\n",
       "      <th>Company</th>\n",
       "      <th>Credit Card</th>\n",
       "      <th>CC Exp Date</th>\n",
       "      <th>CC Security Code</th>\n",
       "      <th>CC Provider</th>\n",
       "      <th>Email</th>\n",
       "      <th>Job</th>\n",
       "      <th>IP Address</th>\n",
       "      <th>Language</th>\n",
       "      <th>Purchase Price</th>\n",
       "    </tr>\n",
       "  </thead>\n",
       "  <tbody>\n",
       "    <tr>\n",
       "      <th>8988</th>\n",
       "      <td>70223 Jeremy Vista Suite 759\\nLake John, NJ 92443</td>\n",
       "      <td>87 VI</td>\n",
       "      <td>AM</td>\n",
       "      <td>Opera/9.80.(X11; Linux i686; en-US) Presto/2.9...</td>\n",
       "      <td>Price, Harrison and Sparks</td>\n",
       "      <td>675952434529</td>\n",
       "      <td>05/23</td>\n",
       "      <td>740</td>\n",
       "      <td>Voyager</td>\n",
       "      <td>berryangel@silva.com</td>\n",
       "      <td>Minerals surveyor</td>\n",
       "      <td>204.138.117.107</td>\n",
       "      <td>ru</td>\n",
       "      <td>57.74</td>\n",
       "    </tr>\n",
       "    <tr>\n",
       "      <th>9317</th>\n",
       "      <td>053 Park Parkways\\nSouth Alexton, UT 68787-3888</td>\n",
       "      <td>61 SV</td>\n",
       "      <td>AM</td>\n",
       "      <td>Mozilla/5.0 (compatible; MSIE 9.0; Windows 98;...</td>\n",
       "      <td>Hunt, King and Mcfarland</td>\n",
       "      <td>6011294657063718</td>\n",
       "      <td>12/25</td>\n",
       "      <td>520</td>\n",
       "      <td>JCB 15 digit</td>\n",
       "      <td>anthonybailey@shaw-griffin.net</td>\n",
       "      <td>Volunteer coordinator</td>\n",
       "      <td>18.238.192.32</td>\n",
       "      <td>es</td>\n",
       "      <td>58.41</td>\n",
       "    </tr>\n",
       "    <tr>\n",
       "      <th>9599</th>\n",
       "      <td>64662 Michael Manor Suite 537\\nJodichester, ME...</td>\n",
       "      <td>55 Kp</td>\n",
       "      <td>AM</td>\n",
       "      <td>Mozilla/5.0 (compatible; MSIE 5.0; Windows NT ...</td>\n",
       "      <td>Barton LLC</td>\n",
       "      <td>5262984317652292</td>\n",
       "      <td>09/25</td>\n",
       "      <td>383</td>\n",
       "      <td>Voyager</td>\n",
       "      <td>burkecrystal@robertson.info</td>\n",
       "      <td>Theme park manager</td>\n",
       "      <td>5.9.134.200</td>\n",
       "      <td>el</td>\n",
       "      <td>60.46</td>\n",
       "    </tr>\n",
       "  </tbody>\n",
       "</table>\n",
       "</div>"
      ],
      "text/plain": [
       "                                                Address    Lot AM or PM  \\\n",
       "8988  70223 Jeremy Vista Suite 759\\nLake John, NJ 92443  87 VI       AM   \n",
       "9317    053 Park Parkways\\nSouth Alexton, UT 68787-3888  61 SV       AM   \n",
       "9599  64662 Michael Manor Suite 537\\nJodichester, ME...  55 Kp       AM   \n",
       "\n",
       "                                           Browser Info  \\\n",
       "8988  Opera/9.80.(X11; Linux i686; en-US) Presto/2.9...   \n",
       "9317  Mozilla/5.0 (compatible; MSIE 9.0; Windows 98;...   \n",
       "9599  Mozilla/5.0 (compatible; MSIE 5.0; Windows NT ...   \n",
       "\n",
       "                         Company       Credit Card CC Exp Date  \\\n",
       "8988  Price, Harrison and Sparks      675952434529       05/23   \n",
       "9317    Hunt, King and Mcfarland  6011294657063718       12/25   \n",
       "9599                  Barton LLC  5262984317652292       09/25   \n",
       "\n",
       "      CC Security Code   CC Provider                           Email  \\\n",
       "8988               740       Voyager            berryangel@silva.com   \n",
       "9317               520  JCB 15 digit  anthonybailey@shaw-griffin.net   \n",
       "9599               383       Voyager     burkecrystal@robertson.info   \n",
       "\n",
       "                        Job       IP Address Language  Purchase Price  \n",
       "8988      Minerals surveyor  204.138.117.107       ru           57.74  \n",
       "9317  Volunteer coordinator    18.238.192.32       es           58.41  \n",
       "9599     Theme park manager      5.9.134.200       el           60.46  "
      ]
     },
     "execution_count": 6,
     "metadata": {},
     "output_type": "execute_result"
    }
   ],
   "source": [
    "df.sample(3)"
   ]
  },
  {
   "cell_type": "markdown",
   "id": "623c883f",
   "metadata": {},
   "source": [
    "# Data Types of Each Column"
   ]
  },
  {
   "cell_type": "code",
   "execution_count": 7,
   "id": "5dd87bd4",
   "metadata": {},
   "outputs": [
    {
     "data": {
      "text/plain": [
       "Address              object\n",
       "Lot                  object\n",
       "AM or PM             object\n",
       "Browser Info         object\n",
       "Company              object\n",
       "Credit Card           int64\n",
       "CC Exp Date          object\n",
       "CC Security Code      int64\n",
       "CC Provider          object\n",
       "Email                object\n",
       "Job                  object\n",
       "IP Address           object\n",
       "Language             object\n",
       "Purchase Price      float64\n",
       "dtype: object"
      ]
     },
     "execution_count": 7,
     "metadata": {},
     "output_type": "execute_result"
    }
   ],
   "source": [
    "df.dtypes"
   ]
  },
  {
   "cell_type": "markdown",
   "id": "26acc459",
   "metadata": {},
   "source": [
    "# Null Values in Each Column "
   ]
  },
  {
   "cell_type": "code",
   "execution_count": 9,
   "id": "69a357ec",
   "metadata": {},
   "outputs": [
    {
     "data": {
      "text/plain": [
       "Address             0\n",
       "Lot                 0\n",
       "AM or PM            0\n",
       "Browser Info        0\n",
       "Company             0\n",
       "Credit Card         0\n",
       "CC Exp Date         0\n",
       "CC Security Code    0\n",
       "CC Provider         0\n",
       "Email               0\n",
       "Job                 0\n",
       "IP Address          0\n",
       "Language            0\n",
       "Purchase Price      0\n",
       "dtype: int64"
      ]
     },
     "execution_count": 9,
     "metadata": {},
     "output_type": "execute_result"
    }
   ],
   "source": [
    "df.isnull().sum()"
   ]
  },
  {
   "cell_type": "markdown",
   "id": "4e1ee01a",
   "metadata": {},
   "source": [
    "# Number of Rows in My Data-Set"
   ]
  },
  {
   "cell_type": "code",
   "execution_count": 10,
   "id": "1caa4b29",
   "metadata": {},
   "outputs": [
    {
     "data": {
      "text/plain": [
       "RangeIndex(start=0, stop=10000, step=1)"
      ]
     },
     "execution_count": 10,
     "metadata": {},
     "output_type": "execute_result"
    }
   ],
   "source": [
    "df.index"
   ]
  },
  {
   "cell_type": "markdown",
   "id": "05c277d5",
   "metadata": {},
   "source": [
    "# No of Columns in My Data-Set"
   ]
  },
  {
   "cell_type": "code",
   "execution_count": 11,
   "id": "0aa6048f",
   "metadata": {},
   "outputs": [
    {
     "data": {
      "text/plain": [
       "Index(['Address', 'Lot', 'AM or PM', 'Browser Info', 'Company', 'Credit Card',\n",
       "       'CC Exp Date', 'CC Security Code', 'CC Provider', 'Email', 'Job',\n",
       "       'IP Address', 'Language', 'Purchase Price'],\n",
       "      dtype='object')"
      ]
     },
     "execution_count": 11,
     "metadata": {},
     "output_type": "execute_result"
    }
   ],
   "source": [
    "df.columns"
   ]
  },
  {
   "cell_type": "markdown",
   "id": "53d1b658",
   "metadata": {},
   "source": [
    "# Info about My Data_Set"
   ]
  },
  {
   "cell_type": "code",
   "execution_count": 12,
   "id": "58c4e756",
   "metadata": {},
   "outputs": [
    {
     "name": "stdout",
     "output_type": "stream",
     "text": [
      "<class 'pandas.core.frame.DataFrame'>\n",
      "RangeIndex: 10000 entries, 0 to 9999\n",
      "Data columns (total 14 columns):\n",
      " #   Column            Non-Null Count  Dtype  \n",
      "---  ------            --------------  -----  \n",
      " 0   Address           10000 non-null  object \n",
      " 1   Lot               10000 non-null  object \n",
      " 2   AM or PM          10000 non-null  object \n",
      " 3   Browser Info      10000 non-null  object \n",
      " 4   Company           10000 non-null  object \n",
      " 5   Credit Card       10000 non-null  int64  \n",
      " 6   CC Exp Date       10000 non-null  object \n",
      " 7   CC Security Code  10000 non-null  int64  \n",
      " 8   CC Provider       10000 non-null  object \n",
      " 9   Email             10000 non-null  object \n",
      " 10  Job               10000 non-null  object \n",
      " 11  IP Address        10000 non-null  object \n",
      " 12  Language          10000 non-null  object \n",
      " 13  Purchase Price    10000 non-null  float64\n",
      "dtypes: float64(1), int64(2), object(11)\n",
      "memory usage: 1.1+ MB\n"
     ]
    }
   ],
   "source": [
    "df.info()"
   ]
  },
  {
   "cell_type": "markdown",
   "id": "d4f884e0",
   "metadata": {},
   "source": [
    "# Highest and Lowest Purchase Price"
   ]
  },
  {
   "cell_type": "code",
   "execution_count": 16,
   "id": "79e4097d",
   "metadata": {},
   "outputs": [
    {
     "data": {
      "text/plain": [
       "99.99"
      ]
     },
     "execution_count": 16,
     "metadata": {},
     "output_type": "execute_result"
    }
   ],
   "source": [
    "df['Purchase Price'].max()"
   ]
  },
  {
   "cell_type": "code",
   "execution_count": 17,
   "id": "f79c78cf",
   "metadata": {},
   "outputs": [
    {
     "data": {
      "text/plain": [
       "0.0"
      ]
     },
     "execution_count": 17,
     "metadata": {},
     "output_type": "execute_result"
    }
   ],
   "source": [
    "df['Purchase Price'].min()"
   ]
  },
  {
   "cell_type": "markdown",
   "id": "f7b20447",
   "metadata": {},
   "source": [
    "# Average Price of Purchase Price"
   ]
  },
  {
   "cell_type": "code",
   "execution_count": 23,
   "id": "856ea0a7",
   "metadata": {},
   "outputs": [
    {
     "data": {
      "text/plain": [
       "50.34730200000025"
      ]
     },
     "execution_count": 23,
     "metadata": {},
     "output_type": "execute_result"
    }
   ],
   "source": [
    "df['Purchase Price'].mean()"
   ]
  },
  {
   "cell_type": "markdown",
   "id": "f4b96ff3",
   "metadata": {},
   "source": [
    "#  How Many People Have French 'fr' as their Language?"
   ]
  },
  {
   "cell_type": "code",
   "execution_count": 24,
   "id": "64b9fff4",
   "metadata": {},
   "outputs": [
    {
     "data": {
      "text/plain": [
       "Index(['Address', 'Lot', 'AM or PM', 'Browser Info', 'Company', 'Credit Card',\n",
       "       'CC Exp Date', 'CC Security Code', 'CC Provider', 'Email', 'Job',\n",
       "       'IP Address', 'Language', 'Purchase Price'],\n",
       "      dtype='object')"
      ]
     },
     "execution_count": 24,
     "metadata": {},
     "output_type": "execute_result"
    }
   ],
   "source": [
    "df.columns"
   ]
  },
  {
   "cell_type": "code",
   "execution_count": null,
   "id": "60f253cf",
   "metadata": {},
   "outputs": [],
   "source": []
  },
  {
   "cell_type": "code",
   "execution_count": 32,
   "id": "1ebe1817",
   "metadata": {},
   "outputs": [
    {
     "data": {
      "text/plain": [
       "1097"
      ]
     },
     "execution_count": 32,
     "metadata": {},
     "output_type": "execute_result"
    }
   ],
   "source": [
    "len(df[df['Language']=='fr'])"
   ]
  },
  {
   "cell_type": "code",
   "execution_count": 35,
   "id": "3cb0b2a2",
   "metadata": {},
   "outputs": [
    {
     "data": {
      "text/plain": [
       "Address             1097\n",
       "Lot                 1097\n",
       "AM or PM            1097\n",
       "Browser Info        1097\n",
       "Company             1097\n",
       "Credit Card         1097\n",
       "CC Exp Date         1097\n",
       "CC Security Code    1097\n",
       "CC Provider         1097\n",
       "Email               1097\n",
       "Job                 1097\n",
       "IP Address          1097\n",
       "Language            1097\n",
       "Purchase Price      1097\n",
       "dtype: int64"
      ]
     },
     "execution_count": 35,
     "metadata": {},
     "output_type": "execute_result"
    }
   ],
   "source": [
    "df[df['Language']=='fr'].count()"
   ]
  },
  {
   "cell_type": "markdown",
   "id": "26a0cc40",
   "metadata": {},
   "source": [
    "# Job Title contain Engineers"
   ]
  },
  {
   "cell_type": "code",
   "execution_count": 45,
   "id": "9ceda6a7",
   "metadata": {},
   "outputs": [
    {
     "data": {
      "text/plain": [
       "Address             984\n",
       "Lot                 984\n",
       "AM or PM            984\n",
       "Browser Info        984\n",
       "Company             984\n",
       "Credit Card         984\n",
       "CC Exp Date         984\n",
       "CC Security Code    984\n",
       "CC Provider         984\n",
       "Email               984\n",
       "Job                 984\n",
       "IP Address          984\n",
       "Language            984\n",
       "Purchase Price      984\n",
       "dtype: int64"
      ]
     },
     "execution_count": 45,
     "metadata": {},
     "output_type": "execute_result"
    }
   ],
   "source": [
    "df[df['Job'].str.contains(\"engineer\",case=False)].count()"
   ]
  },
  {
   "cell_type": "code",
   "execution_count": 46,
   "id": "2b8b2b6b",
   "metadata": {},
   "outputs": [
    {
     "data": {
      "text/plain": [
       "984"
      ]
     },
     "execution_count": 46,
     "metadata": {},
     "output_type": "execute_result"
    }
   ],
   "source": [
    "len(df[df['Job'].str.contains(\"engineer\",case=False)])"
   ]
  },
  {
   "cell_type": "markdown",
   "id": "d53944f5",
   "metadata": {},
   "source": [
    "# Find The emails of the person With the following Email Address: 132.207.160.22  "
   ]
  },
  {
   "cell_type": "code",
   "execution_count": 50,
   "id": "67a92459",
   "metadata": {},
   "outputs": [
    {
     "data": {
      "text/html": [
       "<div>\n",
       "<style scoped>\n",
       "    .dataframe tbody tr th:only-of-type {\n",
       "        vertical-align: middle;\n",
       "    }\n",
       "\n",
       "    .dataframe tbody tr th {\n",
       "        vertical-align: top;\n",
       "    }\n",
       "\n",
       "    .dataframe thead th {\n",
       "        text-align: right;\n",
       "    }\n",
       "</style>\n",
       "<table border=\"1\" class=\"dataframe\">\n",
       "  <thead>\n",
       "    <tr style=\"text-align: right;\">\n",
       "      <th></th>\n",
       "      <th>Address</th>\n",
       "      <th>Lot</th>\n",
       "      <th>AM or PM</th>\n",
       "      <th>Browser Info</th>\n",
       "      <th>Company</th>\n",
       "      <th>Credit Card</th>\n",
       "      <th>CC Exp Date</th>\n",
       "      <th>CC Security Code</th>\n",
       "      <th>CC Provider</th>\n",
       "      <th>Email</th>\n",
       "      <th>Job</th>\n",
       "      <th>IP Address</th>\n",
       "      <th>Language</th>\n",
       "      <th>Purchase Price</th>\n",
       "    </tr>\n",
       "  </thead>\n",
       "  <tbody>\n",
       "    <tr>\n",
       "      <th>2</th>\n",
       "      <td>Unit 0065 Box 5052\\nDPO AP 27450</td>\n",
       "      <td>94 vE</td>\n",
       "      <td>PM</td>\n",
       "      <td>Mozilla/5.0 (compatible; MSIE 9.0; Windows NT ...</td>\n",
       "      <td>Simpson, Williams and Pham</td>\n",
       "      <td>675957666125</td>\n",
       "      <td>08/19</td>\n",
       "      <td>699</td>\n",
       "      <td>JCB 16 digit</td>\n",
       "      <td>amymiller@morales-harrison.com</td>\n",
       "      <td>Customer service manager</td>\n",
       "      <td>132.207.160.22</td>\n",
       "      <td>de</td>\n",
       "      <td>0.95</td>\n",
       "    </tr>\n",
       "  </tbody>\n",
       "</table>\n",
       "</div>"
      ],
      "text/plain": [
       "                            Address    Lot AM or PM  \\\n",
       "2  Unit 0065 Box 5052\\nDPO AP 27450  94 vE       PM   \n",
       "\n",
       "                                        Browser Info  \\\n",
       "2  Mozilla/5.0 (compatible; MSIE 9.0; Windows NT ...   \n",
       "\n",
       "                      Company   Credit Card CC Exp Date  CC Security Code  \\\n",
       "2  Simpson, Williams and Pham  675957666125       08/19               699   \n",
       "\n",
       "    CC Provider                           Email                       Job  \\\n",
       "2  JCB 16 digit  amymiller@morales-harrison.com  Customer service manager   \n",
       "\n",
       "       IP Address Language  Purchase Price  \n",
       "2  132.207.160.22       de            0.95  "
      ]
     },
     "execution_count": 50,
     "metadata": {},
     "output_type": "execute_result"
    }
   ],
   "source": [
    "df[df['IP Address']=='132.207.160.22']"
   ]
  },
  {
   "cell_type": "code",
   "execution_count": 51,
   "id": "03f7240e",
   "metadata": {},
   "outputs": [
    {
     "data": {
      "text/plain": [
       "2    amymiller@morales-harrison.com\n",
       "Name: Email, dtype: object"
      ]
     },
     "execution_count": 51,
     "metadata": {},
     "output_type": "execute_result"
    }
   ],
   "source": [
    "df[df['IP Address']=='132.207.160.22']['Email']"
   ]
  },
  {
   "cell_type": "code",
   "execution_count": null,
   "id": "b782767e",
   "metadata": {},
   "outputs": [],
   "source": []
  }
 ],
 "metadata": {
  "kernelspec": {
   "display_name": "Python 3",
   "language": "python",
   "name": "python3"
  },
  "language_info": {
   "codemirror_mode": {
    "name": "ipython",
    "version": 3
   },
   "file_extension": ".py",
   "mimetype": "text/x-python",
   "name": "python",
   "nbconvert_exporter": "python",
   "pygments_lexer": "ipython3",
   "version": "3.8.8"
  }
 },
 "nbformat": 4,
 "nbformat_minor": 5
}
